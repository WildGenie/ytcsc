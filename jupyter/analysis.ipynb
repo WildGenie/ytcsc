{
 "cells": [
  {
   "cell_type": "code",
   "execution_count": 1,
   "metadata": {},
   "outputs": [],
   "source": [
    "import pandas as pd\n",
    "import numpy as np"
   ]
  },
  {
   "cell_type": "code",
   "execution_count": 2,
   "metadata": {},
   "outputs": [],
   "source": [
    "df = pd.read_csv('../data/raw_data.csv')"
   ]
  },
  {
   "cell_type": "code",
   "execution_count": 3,
   "metadata": {},
   "outputs": [
    {
     "data": {
      "text/plain": [
       "(1333, 8)"
      ]
     },
     "execution_count": 3,
     "metadata": {},
     "output_type": "execute_result"
    }
   ],
   "source": [
    "df.shape"
   ]
  },
  {
   "cell_type": "markdown",
   "metadata": {},
   "source": [
    "### Positive and negative comment count\n",
    "0 - negative, \n",
    "1 - positive\n",
    "\n",
    "More negative comments so far"
   ]
  },
  {
   "cell_type": "code",
   "execution_count": 5,
   "metadata": {},
   "outputs": [
    {
     "data": {
      "text/plain": [
       "0    778\n",
       "1    555\n",
       "Name: positive, dtype: int64"
      ]
     },
     "execution_count": 5,
     "metadata": {},
     "output_type": "execute_result"
    }
   ],
   "source": [
    "df.positive.value_counts()"
   ]
  },
  {
   "cell_type": "code",
   "execution_count": 7,
   "metadata": {},
   "outputs": [],
   "source": [
    "positive = df.loc[df.positive == 1]\n",
    "negative = df.loc[df.negative == 1]"
   ]
  },
  {
   "cell_type": "code",
   "execution_count": 13,
   "metadata": {},
   "outputs": [
    {
     "data": {
      "text/html": [
       "<div>\n",
       "<style scoped>\n",
       "    .dataframe tbody tr th:only-of-type {\n",
       "        vertical-align: middle;\n",
       "    }\n",
       "\n",
       "    .dataframe tbody tr th {\n",
       "        vertical-align: top;\n",
       "    }\n",
       "\n",
       "    .dataframe thead th {\n",
       "        text-align: right;\n",
       "    }\n",
       "</style>\n",
       "<table border=\"1\" class=\"dataframe\">\n",
       "  <thead>\n",
       "    <tr style=\"text-align: right;\">\n",
       "      <th></th>\n",
       "      <th>body</th>\n",
       "      <th>positive</th>\n",
       "      <th>negative</th>\n",
       "      <th>neutral</th>\n",
       "      <th>rated</th>\n",
       "      <th>comment_id</th>\n",
       "      <th>video_id</th>\n",
       "      <th>date</th>\n",
       "    </tr>\n",
       "  </thead>\n",
       "  <tbody>\n",
       "    <tr>\n",
       "      <th>19</th>\n",
       "      <td>This commentator is so funny ahahahahaha</td>\n",
       "      <td>1</td>\n",
       "      <td>0</td>\n",
       "      <td>0</td>\n",
       "      <td>1</td>\n",
       "      <td>Ugxm1szLhsMtuYNTUGZ4AaABAg</td>\n",
       "      <td>FY8T06A-j_c</td>\n",
       "      <td>2017-12-14T16:09:43Z</td>\n",
       "    </tr>\n",
       "    <tr>\n",
       "      <th>23</th>\n",
       "      <td>I'm hella late but good job matt</td>\n",
       "      <td>1</td>\n",
       "      <td>0</td>\n",
       "      <td>0</td>\n",
       "      <td>1</td>\n",
       "      <td>UgzYexcaXBJ0LynLTOF4AaABAg</td>\n",
       "      <td>0tO_l_Ed5Rs</td>\n",
       "      <td>2018-10-24T15:59:36Z</td>\n",
       "    </tr>\n",
       "    <tr>\n",
       "      <th>24</th>\n",
       "      <td>Definitely doesn't deserve dislikes on that le...</td>\n",
       "      <td>1</td>\n",
       "      <td>0</td>\n",
       "      <td>0</td>\n",
       "      <td>1</td>\n",
       "      <td>Ugyni2W3FKuZDHttnjp4AaABAg</td>\n",
       "      <td>0tO_l_Ed5Rs</td>\n",
       "      <td>2019-02-27T17:23:26Z</td>\n",
       "    </tr>\n",
       "    <tr>\n",
       "      <th>27</th>\n",
       "      <td>Matthew looks great!</td>\n",
       "      <td>1</td>\n",
       "      <td>0</td>\n",
       "      <td>0</td>\n",
       "      <td>1</td>\n",
       "      <td>UgzzQmi5kDSerhBgD_h4AaABAg</td>\n",
       "      <td>0tO_l_Ed5Rs</td>\n",
       "      <td>2017-12-05T03:58:31Z</td>\n",
       "    </tr>\n",
       "    <tr>\n",
       "      <th>28</th>\n",
       "      <td>This sounds like a disstrack to literally ever...</td>\n",
       "      <td>1</td>\n",
       "      <td>0</td>\n",
       "      <td>0</td>\n",
       "      <td>1</td>\n",
       "      <td>Ugww-V35HzQqIUrUFlV4AaABAg</td>\n",
       "      <td>0tO_l_Ed5Rs</td>\n",
       "      <td>2017-11-30T19:00:48Z</td>\n",
       "    </tr>\n",
       "    <tr>\n",
       "      <th>29</th>\n",
       "      <td>Love it!</td>\n",
       "      <td>1</td>\n",
       "      <td>0</td>\n",
       "      <td>0</td>\n",
       "      <td>1</td>\n",
       "      <td>UgxREmOjiLQksLeYWup4AaABAg</td>\n",
       "      <td>0tO_l_Ed5Rs</td>\n",
       "      <td>2017-11-27T08:14:27Z</td>\n",
       "    </tr>\n",
       "    <tr>\n",
       "      <th>30</th>\n",
       "      <td>Dope song</td>\n",
       "      <td>1</td>\n",
       "      <td>0</td>\n",
       "      <td>0</td>\n",
       "      <td>1</td>\n",
       "      <td>UgyFe7JzVN9j-u2S76l4AaABAg</td>\n",
       "      <td>0tO_l_Ed5Rs</td>\n",
       "      <td>2017-11-24T16:48:21Z</td>\n",
       "    </tr>\n",
       "    <tr>\n",
       "      <th>32</th>\n",
       "      <td>first rap I've heard with real and meaningful ...</td>\n",
       "      <td>1</td>\n",
       "      <td>0</td>\n",
       "      <td>0</td>\n",
       "      <td>1</td>\n",
       "      <td>Ugwa3gd-Op6dPLSHm2Z4AaABAg</td>\n",
       "      <td>0tO_l_Ed5Rs</td>\n",
       "      <td>2017-11-22T11:57:49Z</td>\n",
       "    </tr>\n",
       "    <tr>\n",
       "      <th>35</th>\n",
       "      <td>So much hate this music video got 😞</td>\n",
       "      <td>1</td>\n",
       "      <td>0</td>\n",
       "      <td>0</td>\n",
       "      <td>1</td>\n",
       "      <td>UgyjX1OCwKtvMHlDiZl4AaABAg</td>\n",
       "      <td>0tO_l_Ed5Rs</td>\n",
       "      <td>2017-11-18T23:02:56Z</td>\n",
       "    </tr>\n",
       "    <tr>\n",
       "      <th>37</th>\n",
       "      <td>damn. like straight up damn.</td>\n",
       "      <td>1</td>\n",
       "      <td>0</td>\n",
       "      <td>0</td>\n",
       "      <td>1</td>\n",
       "      <td>Ugzh9WxJIm12V55ebsB4AaABAg</td>\n",
       "      <td>0tO_l_Ed5Rs</td>\n",
       "      <td>2017-11-16T09:20:29Z</td>\n",
       "    </tr>\n",
       "  </tbody>\n",
       "</table>\n",
       "</div>"
      ],
      "text/plain": [
       "                                                 body  positive  negative  \\\n",
       "19           This commentator is so funny ahahahahaha         1         0   \n",
       "23                   I'm hella late but good job matt         1         0   \n",
       "24  Definitely doesn't deserve dislikes on that le...         1         0   \n",
       "27                               Matthew looks great!         1         0   \n",
       "28  This sounds like a disstrack to literally ever...         1         0   \n",
       "29                                           Love it!         1         0   \n",
       "30                                          Dope song         1         0   \n",
       "32  first rap I've heard with real and meaningful ...         1         0   \n",
       "35                So much hate this music video got 😞         1         0   \n",
       "37                       damn. like straight up damn.         1         0   \n",
       "\n",
       "    neutral  rated                  comment_id     video_id  \\\n",
       "19        0      1  Ugxm1szLhsMtuYNTUGZ4AaABAg  FY8T06A-j_c   \n",
       "23        0      1  UgzYexcaXBJ0LynLTOF4AaABAg  0tO_l_Ed5Rs   \n",
       "24        0      1  Ugyni2W3FKuZDHttnjp4AaABAg  0tO_l_Ed5Rs   \n",
       "27        0      1  UgzzQmi5kDSerhBgD_h4AaABAg  0tO_l_Ed5Rs   \n",
       "28        0      1  Ugww-V35HzQqIUrUFlV4AaABAg  0tO_l_Ed5Rs   \n",
       "29        0      1  UgxREmOjiLQksLeYWup4AaABAg  0tO_l_Ed5Rs   \n",
       "30        0      1  UgyFe7JzVN9j-u2S76l4AaABAg  0tO_l_Ed5Rs   \n",
       "32        0      1  Ugwa3gd-Op6dPLSHm2Z4AaABAg  0tO_l_Ed5Rs   \n",
       "35        0      1  UgyjX1OCwKtvMHlDiZl4AaABAg  0tO_l_Ed5Rs   \n",
       "37        0      1  Ugzh9WxJIm12V55ebsB4AaABAg  0tO_l_Ed5Rs   \n",
       "\n",
       "                    date  \n",
       "19  2017-12-14T16:09:43Z  \n",
       "23  2018-10-24T15:59:36Z  \n",
       "24  2019-02-27T17:23:26Z  \n",
       "27  2017-12-05T03:58:31Z  \n",
       "28  2017-11-30T19:00:48Z  \n",
       "29  2017-11-27T08:14:27Z  \n",
       "30  2017-11-24T16:48:21Z  \n",
       "32  2017-11-22T11:57:49Z  \n",
       "35  2017-11-18T23:02:56Z  \n",
       "37  2017-11-16T09:20:29Z  "
      ]
     },
     "execution_count": 13,
     "metadata": {},
     "output_type": "execute_result"
    }
   ],
   "source": [
    "positive.head(10)"
   ]
  },
  {
   "cell_type": "markdown",
   "metadata": {},
   "source": [
    "### Average comment length"
   ]
  },
  {
   "cell_type": "code",
   "execution_count": 15,
   "metadata": {},
   "outputs": [
    {
     "data": {
      "text/plain": [
       "50.58198198198198"
      ]
     },
     "execution_count": 15,
     "metadata": {},
     "output_type": "execute_result"
    }
   ],
   "source": [
    "positive.body.apply(len).mean()"
   ]
  },
  {
   "cell_type": "code",
   "execution_count": 16,
   "metadata": {},
   "outputs": [
    {
     "data": {
      "text/plain": [
       "54.8573264781491"
      ]
     },
     "execution_count": 16,
     "metadata": {},
     "output_type": "execute_result"
    }
   ],
   "source": [
    "negative.body.apply(len).mean()"
   ]
  },
  {
   "cell_type": "markdown",
   "metadata": {},
   "source": [
    "### Most frequently occuring words\n",
    "The most occuring words are stop words, which carry no sentiment and should be removed."
   ]
  },
  {
   "cell_type": "code",
   "execution_count": 23,
   "metadata": {},
   "outputs": [
    {
     "data": {
      "text/plain": [
       "I        176\n",
       "the      166\n",
       "this     149\n",
       "is       120\n",
       "a         83\n",
       "and       74\n",
       "it        67\n",
       "to        66\n",
       "was       63\n",
       "of        55\n",
       "so        55\n",
       "like      52\n",
       "you       51\n",
       "This      51\n",
       "love      45\n",
       "in        43\n",
       "i         41\n",
       "that      38\n",
       "my        37\n",
       "best      34\n",
       "song      32\n",
       "for       30\n",
       "but       29\n",
       "on        27\n",
       "game      27\n",
       "video     26\n",
       "me        25\n",
       "good      25\n",
       "The       23\n",
       "one       21\n",
       "dtype: int64"
      ]
     },
     "execution_count": 23,
     "metadata": {},
     "output_type": "execute_result"
    }
   ],
   "source": [
    "positive.body.str.split(expand=True).stack().value_counts().head(30)"
   ]
  },
  {
   "cell_type": "code",
   "execution_count": 24,
   "metadata": {},
   "outputs": [
    {
     "data": {
      "text/plain": [
       "the       202\n",
       "to        184\n",
       "is        166\n",
       "this      163\n",
       "a         143\n",
       "you       141\n",
       "I         121\n",
       "of        111\n",
       "and       101\n",
       "are        71\n",
       "just       69\n",
       "for        63\n",
       "that       55\n",
       "like       55\n",
       "your       53\n",
       "This       53\n",
       "it         50\n",
       "so         49\n",
       "was        48\n",
       "not        44\n",
       "have       39\n",
       "in         39\n",
       "but        36\n",
       "on         35\n",
       "video      34\n",
       "i          33\n",
       "You        33\n",
       "he         32\n",
       "people     32\n",
       "be         31\n",
       "dtype: int64"
      ]
     },
     "execution_count": 24,
     "metadata": {},
     "output_type": "execute_result"
    }
   ],
   "source": [
    "negative.body.str.split(expand=True).stack().value_counts().head(30)"
   ]
  }
 ],
 "metadata": {
  "kernelspec": {
   "display_name": "Python 3",
   "language": "python",
   "name": "python3"
  },
  "language_info": {
   "codemirror_mode": {
    "name": "ipython",
    "version": 3
   },
   "file_extension": ".py",
   "mimetype": "text/x-python",
   "name": "python",
   "nbconvert_exporter": "python",
   "pygments_lexer": "ipython3",
   "version": "3.7.7"
  }
 },
 "nbformat": 4,
 "nbformat_minor": 4
}
