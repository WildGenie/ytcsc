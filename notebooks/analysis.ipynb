{
 "cells": [
  {
   "cell_type": "code",
   "execution_count": 4,
   "metadata": {},
   "outputs": [],
   "source": [
    "import pandas as pd\n",
    "import numpy as np"
   ]
  },
  {
   "cell_type": "code",
   "execution_count": 5,
   "metadata": {},
   "outputs": [],
   "source": [
    "df = pd.read_csv('../data/raw_data.csv')"
   ]
  },
  {
   "cell_type": "code",
   "execution_count": 6,
   "metadata": {},
   "outputs": [
    {
     "data": {
      "text/plain": [
       "(2902, 8)"
      ]
     },
     "execution_count": 6,
     "metadata": {},
     "output_type": "execute_result"
    }
   ],
   "source": [
    "df.shape"
   ]
  },
  {
   "cell_type": "markdown",
   "metadata": {},
   "source": [
    "### Positive and negative comment count\n",
    "0 - negative, \n",
    "1 - positive\n",
    "\n",
    "More negative comments so far"
   ]
  },
  {
   "cell_type": "code",
   "execution_count": 7,
   "metadata": {},
   "outputs": [
    {
     "data": {
      "text/plain": [
       "0    1698\n",
       "1    1204\n",
       "Name: positive, dtype: int64"
      ]
     },
     "execution_count": 7,
     "metadata": {},
     "output_type": "execute_result"
    }
   ],
   "source": [
    "df.positive.value_counts()"
   ]
  },
  {
   "cell_type": "code",
   "execution_count": 8,
   "metadata": {},
   "outputs": [],
   "source": [
    "positive = df.loc[df.positive == 1]\n",
    "negative = df.loc[df.negative == 1]"
   ]
  },
  {
   "cell_type": "code",
   "execution_count": 9,
   "metadata": {},
   "outputs": [
    {
     "data": {
      "text/html": [
       "<div>\n",
       "<style scoped>\n",
       "    .dataframe tbody tr th:only-of-type {\n",
       "        vertical-align: middle;\n",
       "    }\n",
       "\n",
       "    .dataframe tbody tr th {\n",
       "        vertical-align: top;\n",
       "    }\n",
       "\n",
       "    .dataframe thead th {\n",
       "        text-align: right;\n",
       "    }\n",
       "</style>\n",
       "<table border=\"1\" class=\"dataframe\">\n",
       "  <thead>\n",
       "    <tr style=\"text-align: right;\">\n",
       "      <th></th>\n",
       "      <th>body</th>\n",
       "      <th>positive</th>\n",
       "      <th>negative</th>\n",
       "      <th>neutral</th>\n",
       "      <th>rated</th>\n",
       "      <th>comment_id</th>\n",
       "      <th>video_id</th>\n",
       "      <th>date</th>\n",
       "    </tr>\n",
       "  </thead>\n",
       "  <tbody>\n",
       "    <tr>\n",
       "      <th>64</th>\n",
       "      <td>This commentator is so funny ahahahahaha</td>\n",
       "      <td>1</td>\n",
       "      <td>0</td>\n",
       "      <td>0</td>\n",
       "      <td>1</td>\n",
       "      <td>Ugxm1szLhsMtuYNTUGZ4AaABAg</td>\n",
       "      <td>FY8T06A-j_c</td>\n",
       "      <td>2017-12-14T16:09:43Z</td>\n",
       "    </tr>\n",
       "    <tr>\n",
       "      <th>76</th>\n",
       "      <td>Another talent Matthew possess .</td>\n",
       "      <td>1</td>\n",
       "      <td>0</td>\n",
       "      <td>0</td>\n",
       "      <td>1</td>\n",
       "      <td>UgwsvtG8cZmcHp_jynx4AaABAg</td>\n",
       "      <td>0tO_l_Ed5Rs</td>\n",
       "      <td>2019-07-29T22:00:27Z</td>\n",
       "    </tr>\n",
       "    <tr>\n",
       "      <th>77</th>\n",
       "      <td>I kinda love this.. its not mumble rap b.s plu...</td>\n",
       "      <td>1</td>\n",
       "      <td>0</td>\n",
       "      <td>0</td>\n",
       "      <td>1</td>\n",
       "      <td>Ugxn2Ag15UkrVAtPDh54AaABAg</td>\n",
       "      <td>0tO_l_Ed5Rs</td>\n",
       "      <td>2020-03-11T22:15:20Z</td>\n",
       "    </tr>\n",
       "    <tr>\n",
       "      <th>79</th>\n",
       "      <td>love this , mathew you killed it</td>\n",
       "      <td>1</td>\n",
       "      <td>0</td>\n",
       "      <td>0</td>\n",
       "      <td>1</td>\n",
       "      <td>Ugy1Wp2qqlNY2212gCt4AaABAg</td>\n",
       "      <td>0tO_l_Ed5Rs</td>\n",
       "      <td>2020-07-31T15:15:35Z</td>\n",
       "    </tr>\n",
       "    <tr>\n",
       "      <th>80</th>\n",
       "      <td>Dang matt you killin it.</td>\n",
       "      <td>1</td>\n",
       "      <td>0</td>\n",
       "      <td>0</td>\n",
       "      <td>1</td>\n",
       "      <td>Ugxv28EU_oNlNd7b13h4AaABAg</td>\n",
       "      <td>0tO_l_Ed5Rs</td>\n",
       "      <td>2020-03-24T22:22:26Z</td>\n",
       "    </tr>\n",
       "    <tr>\n",
       "      <th>82</th>\n",
       "      <td>I'm hella late but good job matt</td>\n",
       "      <td>1</td>\n",
       "      <td>0</td>\n",
       "      <td>0</td>\n",
       "      <td>1</td>\n",
       "      <td>UgzYexcaXBJ0LynLTOF4AaABAg</td>\n",
       "      <td>0tO_l_Ed5Rs</td>\n",
       "      <td>2018-10-24T15:59:36Z</td>\n",
       "    </tr>\n",
       "    <tr>\n",
       "      <th>83</th>\n",
       "      <td>Definitely doesn't deserve dislikes on that le...</td>\n",
       "      <td>1</td>\n",
       "      <td>0</td>\n",
       "      <td>0</td>\n",
       "      <td>1</td>\n",
       "      <td>Ugyni2W3FKuZDHttnjp4AaABAg</td>\n",
       "      <td>0tO_l_Ed5Rs</td>\n",
       "      <td>2019-02-27T17:23:26Z</td>\n",
       "    </tr>\n",
       "    <tr>\n",
       "      <th>85</th>\n",
       "      <td>Bro when's the next song don't let the haters ...</td>\n",
       "      <td>1</td>\n",
       "      <td>0</td>\n",
       "      <td>0</td>\n",
       "      <td>1</td>\n",
       "      <td>Ugxr5x-GjFOABloQKV14AaABAg</td>\n",
       "      <td>0tO_l_Ed5Rs</td>\n",
       "      <td>2019-01-10T02:18:07Z</td>\n",
       "    </tr>\n",
       "    <tr>\n",
       "      <th>87</th>\n",
       "      <td>Sick beats Matt, sick beats.</td>\n",
       "      <td>1</td>\n",
       "      <td>0</td>\n",
       "      <td>0</td>\n",
       "      <td>1</td>\n",
       "      <td>UgwT9F3OFVNxlrwMgDl4AaABAg</td>\n",
       "      <td>0tO_l_Ed5Rs</td>\n",
       "      <td>2018-02-04T00:00:30Z</td>\n",
       "    </tr>\n",
       "    <tr>\n",
       "      <th>88</th>\n",
       "      <td>Ey that was actually pretty good</td>\n",
       "      <td>1</td>\n",
       "      <td>0</td>\n",
       "      <td>0</td>\n",
       "      <td>1</td>\n",
       "      <td>UgwKto97pMKGpKs3LCx4AaABAg</td>\n",
       "      <td>0tO_l_Ed5Rs</td>\n",
       "      <td>2017-12-17T04:09:40Z</td>\n",
       "    </tr>\n",
       "  </tbody>\n",
       "</table>\n",
       "</div>"
      ],
      "text/plain": [
       "                                                 body  positive  negative  \\\n",
       "64           This commentator is so funny ahahahahaha         1         0   \n",
       "76                   Another talent Matthew possess .         1         0   \n",
       "77  I kinda love this.. its not mumble rap b.s plu...         1         0   \n",
       "79                   love this , mathew you killed it         1         0   \n",
       "80                           Dang matt you killin it.         1         0   \n",
       "82                   I'm hella late but good job matt         1         0   \n",
       "83  Definitely doesn't deserve dislikes on that le...         1         0   \n",
       "85  Bro when's the next song don't let the haters ...         1         0   \n",
       "87                       Sick beats Matt, sick beats.         1         0   \n",
       "88                   Ey that was actually pretty good         1         0   \n",
       "\n",
       "    neutral  rated                  comment_id     video_id  \\\n",
       "64        0      1  Ugxm1szLhsMtuYNTUGZ4AaABAg  FY8T06A-j_c   \n",
       "76        0      1  UgwsvtG8cZmcHp_jynx4AaABAg  0tO_l_Ed5Rs   \n",
       "77        0      1  Ugxn2Ag15UkrVAtPDh54AaABAg  0tO_l_Ed5Rs   \n",
       "79        0      1  Ugy1Wp2qqlNY2212gCt4AaABAg  0tO_l_Ed5Rs   \n",
       "80        0      1  Ugxv28EU_oNlNd7b13h4AaABAg  0tO_l_Ed5Rs   \n",
       "82        0      1  UgzYexcaXBJ0LynLTOF4AaABAg  0tO_l_Ed5Rs   \n",
       "83        0      1  Ugyni2W3FKuZDHttnjp4AaABAg  0tO_l_Ed5Rs   \n",
       "85        0      1  Ugxr5x-GjFOABloQKV14AaABAg  0tO_l_Ed5Rs   \n",
       "87        0      1  UgwT9F3OFVNxlrwMgDl4AaABAg  0tO_l_Ed5Rs   \n",
       "88        0      1  UgwKto97pMKGpKs3LCx4AaABAg  0tO_l_Ed5Rs   \n",
       "\n",
       "                    date  \n",
       "64  2017-12-14T16:09:43Z  \n",
       "76  2019-07-29T22:00:27Z  \n",
       "77  2020-03-11T22:15:20Z  \n",
       "79  2020-07-31T15:15:35Z  \n",
       "80  2020-03-24T22:22:26Z  \n",
       "82  2018-10-24T15:59:36Z  \n",
       "83  2019-02-27T17:23:26Z  \n",
       "85  2019-01-10T02:18:07Z  \n",
       "87  2018-02-04T00:00:30Z  \n",
       "88  2017-12-17T04:09:40Z  "
      ]
     },
     "execution_count": 9,
     "metadata": {},
     "output_type": "execute_result"
    }
   ],
   "source": [
    "positive.head(10)"
   ]
  },
  {
   "cell_type": "markdown",
   "metadata": {},
   "source": [
    "### Average comment length"
   ]
  },
  {
   "cell_type": "code",
   "execution_count": 10,
   "metadata": {},
   "outputs": [
    {
     "data": {
      "text/plain": [
       "49.029900332225914"
      ]
     },
     "execution_count": 10,
     "metadata": {},
     "output_type": "execute_result"
    }
   ],
   "source": [
    "positive.body.apply(len).mean()"
   ]
  },
  {
   "cell_type": "code",
   "execution_count": 11,
   "metadata": {},
   "outputs": [
    {
     "data": {
      "text/plain": [
       "55.14310954063604"
      ]
     },
     "execution_count": 11,
     "metadata": {},
     "output_type": "execute_result"
    }
   ],
   "source": [
    "negative.body.apply(len).mean()"
   ]
  },
  {
   "cell_type": "markdown",
   "metadata": {},
   "source": [
    "### Most frequently occuring words\n",
    "The most occuring words are stop words, which carry no sentiment and should be removed."
   ]
  },
  {
   "cell_type": "code",
   "execution_count": 12,
   "metadata": {},
   "outputs": [
    {
     "data": {
      "text/plain": [
       "the      362\n",
       "I        359\n",
       "this     314\n",
       "is       259\n",
       "and      166\n",
       "it       147\n",
       "a        147\n",
       "to       140\n",
       "of       135\n",
       "was      128\n",
       "This     114\n",
       "you      114\n",
       "love     112\n",
       "so       104\n",
       "like     104\n",
       "i         95\n",
       "best      94\n",
       "that      93\n",
       "my        82\n",
       "in        77\n",
       "good      73\n",
       "song      72\n",
       "game      62\n",
       "but       57\n",
       "video     57\n",
       "for       55\n",
       "The       50\n",
       "are       50\n",
       "on        50\n",
       "just      49\n",
       "dtype: int64"
      ]
     },
     "execution_count": 12,
     "metadata": {},
     "output_type": "execute_result"
    }
   ],
   "source": [
    "positive.body.str.split(expand=True).stack().value_counts().head(30)"
   ]
  },
  {
   "cell_type": "code",
   "execution_count": 13,
   "metadata": {},
   "outputs": [
    {
     "data": {
      "text/plain": [
       "the        430\n",
       "is         392\n",
       "to         365\n",
       "this       346\n",
       "a          322\n",
       "you        318\n",
       "I          259\n",
       "of         239\n",
       "and        215\n",
       "your       141\n",
       "This       138\n",
       "just       133\n",
       "that       133\n",
       "are        130\n",
       "in         113\n",
       "was        110\n",
       "it         109\n",
       "for        109\n",
       "like       107\n",
       "so         103\n",
       "not         89\n",
       "he          82\n",
       "video       79\n",
       "fucking     76\n",
       "but         75\n",
       "have        69\n",
       "You         69\n",
       "on          69\n",
       "i           68\n",
       "be          67\n",
       "dtype: int64"
      ]
     },
     "execution_count": 13,
     "metadata": {},
     "output_type": "execute_result"
    }
   ],
   "source": [
    "negative.body.str.split(expand=True).stack().value_counts().head(30)"
   ]
  },
  {
   "cell_type": "code",
   "execution_count": null,
   "metadata": {},
   "outputs": [],
   "source": []
  }
 ],
 "metadata": {
  "kernelspec": {
   "display_name": "Python 3",
   "language": "python",
   "name": "python3"
  },
  "language_info": {
   "codemirror_mode": {
    "name": "ipython",
    "version": 3
   },
   "file_extension": ".py",
   "mimetype": "text/x-python",
   "name": "python",
   "nbconvert_exporter": "python",
   "pygments_lexer": "ipython3",
   "version": "3.7.7"
  }
 },
 "nbformat": 4,
 "nbformat_minor": 4
}
