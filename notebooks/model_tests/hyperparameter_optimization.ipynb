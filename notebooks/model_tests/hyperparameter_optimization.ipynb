{
 "cells": [
  {
   "cell_type": "code",
   "execution_count": 1,
   "id": "searching-sauce",
   "metadata": {},
   "outputs": [],
   "source": [
    "import pandas as pd\n",
    "pd.options.mode.chained_assignment = None\n",
    "import numpy as np\n",
    "\n",
    "from tensorflow.keras.models import Sequential\n",
    "from tensorflow.keras.layers import Dense, Embedding, LSTM, Dropout, Activation, TimeDistributed, BatchNormalization, Conv1D, MaxPooling1D, Flatten, Bidirectional\n",
    "from keras.layers.merge import concatenate\n",
    "from keras.preprocessing import sequence\n",
    "from tensorflow.keras.models import Model\n",
    "from tensorflow.keras.callbacks import EarlyStopping, ModelCheckpoint\n",
    "from tensorflow.keras.optimizers import Adam\n",
    "\n",
    "from sklearn.model_selection import train_test_split\n",
    "from sklearn.model_selection import StratifiedKFold\n",
    "from sklearn.metrics import accuracy_score\n",
    "from sklearn.metrics import precision_score\n",
    "from sklearn.metrics import recall_score\n",
    "from sklearn.metrics import f1_score\n",
    "from sklearn.metrics import confusion_matrix\n",
    "\n",
    "from dataprep import get_vectors, get_data\n",
    "\n",
    "import tensorflow as tf\n",
    "import matplotlib.pyplot as plt \n",
    "\n",
    "import warnings\n",
    "warnings.filterwarnings('ignore')"
   ]
  },
  {
   "cell_type": "code",
   "execution_count": 3,
   "id": "virtual-enhancement",
   "metadata": {},
   "outputs": [
    {
     "name": "stdout",
     "output_type": "stream",
     "text": [
      "Train labels:  Counter({1: 2206, 0: 2206})\n",
      "Test labels:  Counter({1: 946, 0: 946})\n"
     ]
    }
   ],
   "source": [
    "# To calculate on GPU\n",
    "# https://github.com/tensorflow/tensorflow/issues/33721\n",
    "TF_FORCE_GPU_ALLOW_GROWTH=1\n",
    "physical_devices = tf.config.list_physical_devices('GPU')\n",
    "tf.config.experimental.set_memory_growth(physical_devices[0], True)\n",
    "import os\n",
    "os.environ[\"TF_FORCE_GPU_ALLOW_GROWTH\"]=\"true\"\n",
    "# CONSTANTS\n",
    "seed = 42\n",
    "cmt_pos = pd.read_csv('../../data/prepared/no_trans_stem_pos.csv')\n",
    "cmt_neg = pd.read_csv('../../data/prepared/no_trans_stem_neg.csv')\n",
    "X, Y, vocab_size, emdedding_size, vectors = get_data(cmt_pos, cmt_neg, 3)\n",
    "input_dim = X.max()+1\n",
    "output_dim = 32\n",
    "X_train, X_test, y_train, y_test = train_test_split(X, Y, random_state=seed, test_size=0.3, stratify=Y, shuffle=True)\n",
    "# check if the data is evenly split\n",
    "import collections\n",
    "print('Train labels: ', collections.Counter(y_train))\n",
    "print('Test labels: ', collections.Counter(y_test))"
   ]
  },
  {
   "cell_type": "code",
   "execution_count": 4,
   "id": "guided-render",
   "metadata": {},
   "outputs": [],
   "source": [
    "# Cross validation setup\n",
    "sk = StratifiedKFold(n_splits = 3, random_state = seed, shuffle = True) \n",
    "# Early stopping setup\n",
    "early_stopping = EarlyStopping(monitor='val_loss', patience=4)"
   ]
  },
  {
   "cell_type": "code",
   "execution_count": 5,
   "id": "generous-shareware",
   "metadata": {},
   "outputs": [],
   "source": [
    "def plot_history(history_arrs, train, val, xlabel, ylabel, plot_title):\n",
    "    if len(history_arrs) == 1:\n",
    "        history = history_arrs[0]\n",
    "        plt.plot(history['accuracy'])\n",
    "        plt.plot(history['val_accuracy'])\n",
    "        plt.title(plot_title)\n",
    "        plt.ylabel(ylabel)\n",
    "        plt.xlabel(xlabel)\n",
    "        plt.legend(['Train', 'Validation'], loc='upper left')\n",
    "        plt.show()\n",
    "    else:\n",
    "        f, a = plt.subplots(1, len(history_arrs), figsize=(10,5))\n",
    "        for idx, history in enumerate(history_arrs):\n",
    "            # For Sine Function\n",
    "            a[idx].plot(history[train])\n",
    "            a[idx].plot(history[val])\n",
    "            title = plot_title + ' ' + str(idx)\n",
    "            a[idx].set_title(title)\n",
    "            a[idx].set_xlabel(xlabel)\n",
    "            a[idx].set_ylabel(ylabel)\n",
    "            a[idx].legend(['Train', 'Validation'], loc='upper left')\n",
    "        f.tight_layout()\n",
    "        plt.show()\n",
    "\n",
    "def run_test(model_func, Xtrain, ytrain, X_test, y_test, embedding_layer, batch, epoch, lr):\n",
    "    results = []\n",
    "    histories = []\n",
    "    best_model = None\n",
    "    best_acc = 0\n",
    "    for train_index, val_index in sk.split(X_train, y_train):\n",
    "        Xt, Xv = Xtrain[train_index], Xtrain[val_index]\n",
    "        yt, yv = ytrain[train_index], ytrain[val_index]\n",
    "        model = model_func(embedding_layer, lr)\n",
    "        history = model.fit(Xt, yt, validation_data=(Xv, yv), epochs=epoch, batch_size=batch, verbose = 0, callbacks=[early_stopping])\n",
    "        histories.append(history.history)\n",
    "        loss, acc = model.evaluate(X_test, y_test, verbose = 0, batch_size = batch)\n",
    "        if best_acc < acc:\n",
    "            best_model = model\n",
    "        results.append([loss, acc])\n",
    "    results = np.array(results)\n",
    "    return results, histories, model\n",
    "\n",
    "def calculate_metrics(model, X_test, y_test):\n",
    "    ypred_class = model.predict_classes(X_test, verbose=0)\n",
    "    ypred_class = ypred_class[:, 0]\n",
    "    accuracy = accuracy_score(y_test, ypred_class)\n",
    "    precision = precision_score(y_test, ypred_class)\n",
    "    recall = recall_score(y_test, ypred_class)\n",
    "    f1 = f1_score(y_test, ypred_class)\n",
    "    conf_matrix = confusion_matrix(y_test, ypred_class)\n",
    "    return accuracy, precision, recall, f1, conf_matrix\n",
    "\n",
    "def print_conf_matrix(conf_matrix):\n",
    "    cm = pd.DataFrame(\n",
    "    conf_matrix, \n",
    "    index=['true:positive', 'true:negative'], \n",
    "    columns=['pred:positive', 'pred:negative']\n",
    "    )\n",
    "    print(cm)"
   ]
  },
  {
   "cell_type": "code",
   "execution_count": 6,
   "id": "intermediate-indiana",
   "metadata": {},
   "outputs": [],
   "source": [
    "def model_lstm(embedding_layer, lr):\n",
    "    model = Sequential()\n",
    "    model.add(embedding_layer)\n",
    "    model.add(LSTM(128))\n",
    "    model.add(Dense(1, activation='sigmoid'))\n",
    "    model.compile(loss = 'binary_crossentropy', optimizer=Adam(lr=lr), metrics = ['accuracy'])\n",
    "    return model"
   ]
  },
  {
   "cell_type": "code",
   "execution_count": 7,
   "id": "stupid-zoning",
   "metadata": {},
   "outputs": [],
   "source": [
    "def model_bilstm(embedding_layer, lr):\n",
    "    model = Sequential()\n",
    "    model.add(embedding_layer)\n",
    "    model.add(Bidirectional(LSTM(64)))\n",
    "    model.add(Dense(1, activation='sigmoid'))\n",
    "    model.compile(loss = 'binary_crossentropy', optimizer=Adam(lr=lr), metrics = ['accuracy'])\n",
    "    return model"
   ]
  },
  {
   "cell_type": "code",
   "execution_count": 8,
   "id": "billion-detective",
   "metadata": {},
   "outputs": [],
   "source": [
    "def model_cnnlstm(embedding_layer, lr):\n",
    "    model = Sequential()\n",
    "    model.add(embedding_layer)\n",
    "    model.add(Conv1D(128, 2))\n",
    "    model.add(MaxPooling1D(pool_size=2))\n",
    "    model.add(LSTM(64))\n",
    "    model.add(Dense(1, activation='sigmoid'))\n",
    "    model.compile(loss = 'binary_crossentropy', optimizer=Adam(lr=lr), metrics = ['accuracy'])\n",
    "    return model"
   ]
  },
  {
   "cell_type": "code",
   "execution_count": 9,
   "id": "level-distinction",
   "metadata": {},
   "outputs": [],
   "source": [
    "def model_cnnbilstm(embedding_layer, lr):\n",
    "    model = Sequential()\n",
    "    model.add(embedding_layer)\n",
    "    model.add(Conv1D(128, 2))\n",
    "    model.add(MaxPooling1D(2))\n",
    "    model.add(Bidirectional(LSTM(128)))\n",
    "    model.add(Dense(1, activation='sigmoid'))\n",
    "    model.compile(loss = 'binary_crossentropy', optimizer=Adam(lr=lr), metrics = ['accuracy'])\n",
    "    return model"
   ]
  },
  {
   "cell_type": "code",
   "execution_count": 10,
   "id": "embedded-sending",
   "metadata": {},
   "outputs": [],
   "source": [
    "#Gridsearch parameters\n",
    "epochs = 20\n",
    "lr = [0.1, 0.01, 0.001, 0.0001]\n",
    "batch = [16, 32, 64]"
   ]
  },
  {
   "cell_type": "code",
   "execution_count": 12,
   "id": "announced-williams",
   "metadata": {},
   "outputs": [],
   "source": [
    "Xtrain, Xval, ytrain, yval = train_test_split(X_train, y_train, random_state=seed, test_size=0.1, stratify=y_train, shuffle=True)"
   ]
  },
  {
   "cell_type": "markdown",
   "id": "concerned-bottom",
   "metadata": {},
   "source": [
    "#### Girdsearch for LSTM model"
   ]
  },
  {
   "cell_type": "code",
   "execution_count": 16,
   "id": "widespread-carry",
   "metadata": {},
   "outputs": [
    {
     "name": "stdout",
     "output_type": "stream",
     "text": [
      "Running test for learning rate:  0.1 , batch size:  16 , accuracy:  0.7669132947921753\n",
      "Running test for learning rate:  0.1 , batch size:  32 , accuracy:  0.7394291758537292\n",
      "Running test for learning rate:  0.1 , batch size:  64 , accuracy:  0.5\n",
      "Running test for learning rate:  0.01 , batch size:  16 , accuracy:  0.858350932598114\n",
      "Running test for learning rate:  0.01 , batch size:  32 , accuracy:  0.8646934628486633\n",
      "Running test for learning rate:  0.01 , batch size:  64 , accuracy:  0.8668076395988464\n",
      "Running test for learning rate:  0.001 , batch size:  16 , accuracy:  0.8599365949630737\n",
      "Running test for learning rate:  0.001 , batch size:  32 , accuracy:  0.8646934628486633\n",
      "Running test for learning rate:  0.001 , batch size:  64 , accuracy:  0.8668076395988464\n",
      "Running test for learning rate:  0.0001 , batch size:  16 , accuracy:  0.8736786246299744\n",
      "Running test for learning rate:  0.0001 , batch size:  32 , accuracy:  0.876849889755249\n",
      "Running test for learning rate:  0.0001 , batch size:  64 , accuracy:  0.8657505512237549\n",
      "Best performing paramters:\n",
      "Learning rate: 0.0001, batch size: 32\n"
     ]
    }
   ],
   "source": [
    "best_result = []\n",
    "best_acc = 0\n",
    "for lrate in lr:\n",
    "    for b in batch:\n",
    "        embedding = Embedding(input_dim, output_dim, input_length=X.shape[1], trainable = True)\n",
    "        model = model_lstm(embedding, lrate)\n",
    "        history = model.fit(Xtrain, ytrain, validation_data=(Xval, yval), epochs=30, batch_size=b, verbose = 0, callbacks=[early_stopping])\n",
    "        loss, acc = model.evaluate(X_test, y_test, verbose = 0, batch_size = b)\n",
    "        print('Running test for learning rate: ', lrate, ', batch size: ', b, ', accuracy: ', acc)\n",
    "        if acc > best_acc:\n",
    "            best_acc = acc\n",
    "            best_result = [lrate, b]\n",
    "print('Best performing paramters:')\n",
    "print('Learning rate: %s, batch size: %s' % (best_result[0], best_result[1]))"
   ]
  },
  {
   "cell_type": "markdown",
   "id": "wound-token",
   "metadata": {},
   "source": [
    "#### Gridsearch for BiLSTM model"
   ]
  },
  {
   "cell_type": "code",
   "execution_count": 17,
   "id": "indirect-marsh",
   "metadata": {},
   "outputs": [
    {
     "name": "stdout",
     "output_type": "stream",
     "text": [
      "Running test for learning rate:  0.1 , batch size:  16 , accuracy:  0.7521141767501831\n",
      "Running test for learning rate:  0.1 , batch size:  32 , accuracy:  0.7975687384605408\n",
      "Running test for learning rate:  0.1 , batch size:  64 , accuracy:  0.8224101662635803\n",
      "Running test for learning rate:  0.01 , batch size:  16 , accuracy:  0.8705074191093445\n",
      "Running test for learning rate:  0.01 , batch size:  32 , accuracy:  0.8673361539840698\n",
      "Running test for learning rate:  0.01 , batch size:  64 , accuracy:  0.8652219772338867\n",
      "Running test for learning rate:  0.001 , batch size:  16 , accuracy:  0.8615221977233887\n",
      "Running test for learning rate:  0.001 , batch size:  32 , accuracy:  0.8631078004837036\n",
      "Running test for learning rate:  0.001 , batch size:  64 , accuracy:  0.8779069781303406\n",
      "Running test for learning rate:  0.0001 , batch size:  16 , accuracy:  0.8742071986198425\n",
      "Running test for learning rate:  0.0001 , batch size:  32 , accuracy:  0.8742071986198425\n",
      "Running test for learning rate:  0.0001 , batch size:  64 , accuracy:  0.8742071986198425\n",
      "Best performing paramters:\n",
      "Learning rate: 0.001, batch size: 64\n"
     ]
    }
   ],
   "source": [
    "best_result = []\n",
    "best_acc = 0\n",
    "for lrate in lr:\n",
    "    for b in batch:\n",
    "        embedding = Embedding(input_dim, output_dim, input_length=X.shape[1], trainable = True)\n",
    "        model = model_bilstm(embedding, lrate)\n",
    "        history = model.fit(Xtrain, ytrain, validation_data=(Xval, yval), epochs=30, batch_size=b, verbose = 0, callbacks=[early_stopping])\n",
    "        loss, acc = model.evaluate(X_test, y_test, verbose = 0, batch_size = b)\n",
    "        print('Running test for learning rate: ', lrate, ', batch size: ', b, ', accuracy: ', acc)\n",
    "        if acc > best_acc:\n",
    "            best_acc = acc\n",
    "            best_result = [lrate, b]\n",
    "print('Best performing paramters:')\n",
    "print('Learning rate: %s, batch size: %s' % (best_result[0], best_result[1]))"
   ]
  },
  {
   "cell_type": "markdown",
   "id": "automatic-closure",
   "metadata": {},
   "source": [
    "#### Gridsearch for CNN-LSTM model"
   ]
  },
  {
   "cell_type": "code",
   "execution_count": 18,
   "id": "involved-float",
   "metadata": {},
   "outputs": [
    {
     "name": "stdout",
     "output_type": "stream",
     "text": [
      "Running test for learning rate:  0.1 , batch size:  16 , accuracy:  0.5396406054496765\n",
      "Running test for learning rate:  0.1 , batch size:  32 , accuracy:  0.5702959895133972\n",
      "Running test for learning rate:  0.1 , batch size:  64 , accuracy:  0.645348846912384\n",
      "Running test for learning rate:  0.01 , batch size:  16 , accuracy:  0.854651153087616\n",
      "Running test for learning rate:  0.01 , batch size:  32 , accuracy:  0.8620507121086121\n",
      "Running test for learning rate:  0.01 , batch size:  64 , accuracy:  0.8604651093482971\n",
      "Running test for learning rate:  0.001 , batch size:  16 , accuracy:  0.8636363744735718\n",
      "Running test for learning rate:  0.001 , batch size:  32 , accuracy:  0.873150110244751\n",
      "Running test for learning rate:  0.001 , batch size:  64 , accuracy:  0.8683932423591614\n",
      "Running test for learning rate:  0.0001 , batch size:  16 , accuracy:  0.873150110244751\n",
      "Running test for learning rate:  0.0001 , batch size:  32 , accuracy:  0.8710359334945679\n",
      "Running test for learning rate:  0.0001 , batch size:  64 , accuracy:  0.8710359334945679\n",
      "Best performing paramters:\n",
      "Learning rate: 0.001, batch size: 32\n"
     ]
    }
   ],
   "source": [
    "best_result = []\n",
    "best_acc = 0\n",
    "for lrate in lr:\n",
    "    for b in batch:\n",
    "        embedding = Embedding(input_dim, output_dim, input_length=X.shape[1], trainable = True)\n",
    "        model = model_cnnlstm(embedding, lrate)\n",
    "        history = model.fit(Xtrain, ytrain, validation_data=(Xval, yval), epochs=30, batch_size=b, verbose = 0, callbacks=[early_stopping])\n",
    "        loss, acc = model.evaluate(X_test, y_test, verbose = 0, batch_size = b)\n",
    "        print('Running test for learning rate: ', lrate, ', batch size: ', b, ', accuracy: ', acc)\n",
    "        if acc > best_acc:\n",
    "            best_acc = acc\n",
    "            best_result = [lrate, b]\n",
    "print('Best performing paramters:')\n",
    "print('Learning rate: %s, batch size: %s' % (best_result[0], best_result[1]))"
   ]
  },
  {
   "cell_type": "markdown",
   "id": "casual-tiger",
   "metadata": {},
   "source": [
    "#### Gridsearch for CNN-BiLSTM model"
   ]
  },
  {
   "cell_type": "code",
   "execution_count": 19,
   "id": "fantastic-gasoline",
   "metadata": {},
   "outputs": [
    {
     "name": "stdout",
     "output_type": "stream",
     "text": [
      "Running test for learning rate:  0.1 , batch size:  16 , accuracy:  0.5005285143852234\n",
      "Running test for learning rate:  0.1 , batch size:  32 , accuracy:  0.5121564269065857\n",
      "Running test for learning rate:  0.1 , batch size:  64 , accuracy:  0.5639534592628479\n",
      "Running test for learning rate:  0.01 , batch size:  16 , accuracy:  0.8578224182128906\n",
      "Running test for learning rate:  0.01 , batch size:  32 , accuracy:  0.8641648888587952\n",
      "Running test for learning rate:  0.01 , batch size:  64 , accuracy:  0.8689217567443848\n",
      "Running test for learning rate:  0.001 , batch size:  16 , accuracy:  0.8625792860984802\n",
      "Running test for learning rate:  0.001 , batch size:  32 , accuracy:  0.8662790656089783\n",
      "Running test for learning rate:  0.001 , batch size:  64 , accuracy:  0.8599365949630737\n",
      "Running test for learning rate:  0.0001 , batch size:  16 , accuracy:  0.8689217567443848\n",
      "Running test for learning rate:  0.0001 , batch size:  32 , accuracy:  0.8736786246299744\n",
      "Running test for learning rate:  0.0001 , batch size:  64 , accuracy:  0.8694503307342529\n",
      "Best performing paramters:\n",
      "Learning rate: 0.0001, batch size: 32\n"
     ]
    }
   ],
   "source": [
    "best_result = []\n",
    "best_acc = 0\n",
    "for lrate in lr:\n",
    "    for b in batch:\n",
    "        embedding = Embedding(input_dim, output_dim, input_length=X.shape[1], trainable = True)\n",
    "        model = model_cnnbilstm(embedding, lrate)\n",
    "        history = model.fit(Xtrain, ytrain, validation_data=(Xval, yval), epochs=30, batch_size=b, verbose = 0, callbacks=[early_stopping])\n",
    "        loss, acc = model.evaluate(X_test, y_test, verbose = 0, batch_size = b)\n",
    "        print('Running test for learning rate: ', lrate, ', batch size: ', b, ', accuracy: ', acc)\n",
    "        if acc > best_acc:\n",
    "            best_acc = acc\n",
    "            best_result = [lrate, b]\n",
    "print('Best performing paramters:')\n",
    "print('Learning rate: %s, batch size: %s' % (best_result[0], best_result[1]))"
   ]
  }
 ],
 "metadata": {
  "kernelspec": {
   "display_name": "Python 3",
   "language": "python",
   "name": "python3"
  },
  "language_info": {
   "codemirror_mode": {
    "name": "ipython",
    "version": 3
   },
   "file_extension": ".py",
   "mimetype": "text/x-python",
   "name": "python",
   "nbconvert_exporter": "python",
   "pygments_lexer": "ipython3",
   "version": "3.7.8"
  }
 },
 "nbformat": 4,
 "nbformat_minor": 5
}
