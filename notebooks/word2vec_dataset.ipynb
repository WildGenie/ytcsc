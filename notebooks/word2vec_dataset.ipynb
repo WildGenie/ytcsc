{
 "cells": [
  {
   "cell_type": "code",
   "execution_count": 1,
   "id": "pleased-smith",
   "metadata": {},
   "outputs": [],
   "source": [
    "import pandas as pd\n",
    "pd.options.mode.chained_assignment = None\n",
    "import numpy as np\n",
    "\n",
    "from gensim.models import Word2Vec, KeyedVectors\n",
    "\n",
    "from sklearn.model_selection import train_test_split"
   ]
  },
  {
   "cell_type": "code",
   "execution_count": 2,
   "id": "extreme-basic",
   "metadata": {},
   "outputs": [],
   "source": [
    "no_trans_stem = pd.read_csv('../data/preproc_no_trans_stem.csv')\n",
    "stem = pd.read_csv('../data/preproc_stem.csv')\n",
    "long_cmts = pd.read_csv('../data/preproc_long.csv')"
   ]
  },
  {
   "cell_type": "markdown",
   "id": "subsequent-cornwall",
   "metadata": {},
   "source": [
    "Build w2v models and save them"
   ]
  },
  {
   "cell_type": "code",
   "execution_count": 3,
   "id": "choice-scope",
   "metadata": {},
   "outputs": [],
   "source": [
    "w2v_no_trans_stem = no_trans_stem.copy()\n",
    "w2v_stem = stem.copy()\n",
    "w2v_long = long_cmts.copy()\n",
    "sentences_w2v_no_trans_stem = [[word for word in str(body).split()] for body in w2v_no_trans_stem.body]\n",
    "sentences_w2v_stem = [[word for word in str(body).split()] for body in w2v_stem.body]\n",
    "sentences_w2v_long = [[word for word in str(body).split()] for body in w2v_long.body]"
   ]
  },
  {
   "cell_type": "code",
   "execution_count": 4,
   "id": "super-medline",
   "metadata": {},
   "outputs": [],
   "source": [
    "seed = 42\n",
    "min_word_count = 1\n",
    "vector_size=300"
   ]
  },
  {
   "cell_type": "code",
   "execution_count": 17,
   "id": "sitting-trauma",
   "metadata": {},
   "outputs": [
    {
     "data": {
      "text/plain": [
       "[('his', 0.9999800324440002),\n",
       " ('at', 0.9999799728393555),\n",
       " ('have', 0.9999797344207764),\n",
       " ('time', 0.9999778866767883),\n",
       " ('what', 0.9999778270721436),\n",
       " ('got', 0.9999774098396301),\n",
       " ('make', 0.999977171421051),\n",
       " ('as', 0.9999769926071167),\n",
       " ('has', 0.9999761581420898),\n",
       " ('only', 0.9999754428863525)]"
      ]
     },
     "execution_count": 17,
     "metadata": {},
     "output_type": "execute_result"
    }
   ],
   "source": [
    "word2vec = Word2Vec(sentences=sentences_w2v_no_trans_stem, seed=seed, min_count=2, size=vector_size)\n",
    "word2vec.wv.most_similar('like')"
   ]
  },
  {
   "cell_type": "code",
   "execution_count": 18,
   "id": "removable-today",
   "metadata": {},
   "outputs": [
    {
     "data": {
      "text/plain": [
       "[('make', 0.9999781250953674),\n",
       " ('not', 0.9999761581420898),\n",
       " ('it', 0.9999755620956421),\n",
       " ('no', 0.9999703168869019),\n",
       " ('know', 0.9999701976776123),\n",
       " ('would', 0.9999694228172302),\n",
       " ('coment', 0.9999693632125854),\n",
       " ('get', 0.9999691843986511),\n",
       " ('say', 0.9999687075614929),\n",
       " ('one', 0.9999677538871765)]"
      ]
     },
     "execution_count": 18,
     "metadata": {},
     "output_type": "execute_result"
    }
   ],
   "source": [
    "word2vec_stem = Word2Vec(sentences=sentences_w2v_stem, seed=seed, min_count=2, size=vector_size)\n",
    "word2vec_stem.wv.most_similar('like')"
   ]
  },
  {
   "cell_type": "code",
   "execution_count": 8,
   "id": "decreased-phoenix",
   "metadata": {},
   "outputs": [
    {
     "data": {
      "text/plain": [
       "[('his', 0.9999637603759766),\n",
       " ('like', 0.9999631643295288),\n",
       " ('with', 0.9999629259109497),\n",
       " ('at', 0.9999586343765259),\n",
       " ('its', 0.9999579787254333),\n",
       " ('from', 0.9999533891677856),\n",
       " ('get', 0.999952495098114),\n",
       " ('about', 0.9999516010284424),\n",
       " ('even', 0.9999508857727051),\n",
       " ('can', 0.9999507069587708)]"
      ]
     },
     "execution_count": 8,
     "metadata": {},
     "output_type": "execute_result"
    }
   ],
   "source": [
    "word2vec_long = Word2Vec(sentences=sentences_w2v_long, seed=seed, min_count=1, size=vector_size)\n",
    "word2vec_long.wv.most_similar('love')"
   ]
  },
  {
   "cell_type": "code",
   "execution_count": 15,
   "id": "human-feature",
   "metadata": {},
   "outputs": [],
   "source": [
    "# Save word vectors\n",
    "word_vectors = word2vec.wv\n",
    "word_vectors.save('../models/w2v/word2vec.wordvectors')\n",
    "word_vectors_stem = word2vec_stem.wv\n",
    "word_vectors_stem.save('../models/w2v/word2vec_stem.wordvectors')"
   ]
  },
  {
   "cell_type": "code",
   "execution_count": 9,
   "id": "breathing-exception",
   "metadata": {},
   "outputs": [],
   "source": [
    "word2vec_long = word2vec_long.wv\n",
    "word2vec_long.save('../models/w2v/word2vec_long.wordvectors')"
   ]
  },
  {
   "cell_type": "markdown",
   "id": "portable-parent",
   "metadata": {},
   "source": [
    "Clean up the dataset to be saved as training and testing datasets.\n",
    "\n",
    "First, make sure the negative and positive comments are even in numbers."
   ]
  },
  {
   "cell_type": "code",
   "execution_count": 11,
   "id": "western-wales",
   "metadata": {},
   "outputs": [
    {
     "data": {
      "text/plain": [
       "-1    3053\n",
       " 0    1950\n",
       " 1    1379\n",
       "Name: rating, dtype: int64"
      ]
     },
     "execution_count": 11,
     "metadata": {},
     "output_type": "execute_result"
    }
   ],
   "source": [
    "no_trans_stem.rating.value_counts()"
   ]
  },
  {
   "cell_type": "code",
   "execution_count": 10,
   "id": "reduced-consumption",
   "metadata": {},
   "outputs": [
    {
     "data": {
      "text/plain": [
       "-1    1798\n",
       " 0    1102\n",
       " 1     712\n",
       "Name: rating, dtype: int64"
      ]
     },
     "execution_count": 10,
     "metadata": {},
     "output_type": "execute_result"
    }
   ],
   "source": [
    "long_cmts.rating.value_counts()"
   ]
  },
  {
   "cell_type": "markdown",
   "id": "conservative-agency",
   "metadata": {},
   "source": [
    "Drop neutral sentiment comments, split positive and negative into separate datasets."
   ]
  },
  {
   "cell_type": "code",
   "execution_count": 15,
   "id": "daily-czech",
   "metadata": {},
   "outputs": [],
   "source": [
    "no_trans_stem = no_trans_stem.loc[no_trans_stem.rating != -1]\n",
    "stem = stem.loc[stem.rating != -1]\n",
    "no_trans_stem_pos = no_trans_stem.loc[no_trans_stem.rating == 1]\n",
    "no_trans_stem_neg = no_trans_stem.loc[no_trans_stem.rating == 0]\n",
    "stem_pos = stem.loc[stem.rating == 1]\n",
    "stem_neg = stem.loc[stem.rating == 0]"
   ]
  },
  {
   "cell_type": "code",
   "execution_count": 11,
   "id": "married-republic",
   "metadata": {},
   "outputs": [],
   "source": [
    "long_cmts = long_cmts.loc[long_cmts.rating != -1]\n",
    "long_cmts_neg = long_cmts.loc[long_cmts.rating == 0]\n",
    "long_cmts_pos = long_cmts.loc[long_cmts.rating == 1]"
   ]
  },
  {
   "cell_type": "code",
   "execution_count": 17,
   "id": "prescribed-billy",
   "metadata": {},
   "outputs": [
    {
     "name": "stdout",
     "output_type": "stream",
     "text": [
      "No stem or trans pos length: 1379, no stem or trans neg length: 1950\n",
      "Stem pos length: 1379, stem neg length: 1950\n"
     ]
    }
   ],
   "source": [
    "# Make sure everything is split correctly\n",
    "print('No stem or trans pos length: %d, no stem or trans neg length: %d' % (len(no_trans_stem_pos), len(no_trans_stem_neg)))\n",
    "print('Stem pos length: %d, stem neg length: %d' % (len(stem_pos), len(stem_neg)))"
   ]
  },
  {
   "cell_type": "code",
   "execution_count": 18,
   "id": "lesser-paste",
   "metadata": {},
   "outputs": [],
   "source": [
    "#Write these datasets to file\n",
    "no_trans_stem_pos.to_csv('../data/prepared/no_trans_stem_pos.csv', index=False)\n",
    "no_trans_stem_neg.to_csv('../data/prepared/no_trans_stem_neg.csv', index=False)\n",
    "stem_pos.to_csv('../data/prepared/stem_pos.csv', index=False)\n",
    "stem_neg.to_csv('../data/prepared/stem_neg.csv', index=False)"
   ]
  },
  {
   "cell_type": "code",
   "execution_count": 12,
   "id": "built-sword",
   "metadata": {},
   "outputs": [],
   "source": [
    "long_cmts_pos.to_csv('../data/prepared/long_pos.csv', index=False)\n",
    "long_cmts_neg.to_csv('../data/prepared/long_neg.csv', index=False)"
   ]
  }
 ],
 "metadata": {
  "kernelspec": {
   "display_name": "Python 3",
   "language": "python",
   "name": "python3"
  },
  "language_info": {
   "codemirror_mode": {
    "name": "ipython",
    "version": 3
   },
   "file_extension": ".py",
   "mimetype": "text/x-python",
   "name": "python",
   "nbconvert_exporter": "python",
   "pygments_lexer": "ipython3",
   "version": "3.7.8"
  }
 },
 "nbformat": 4,
 "nbformat_minor": 5
}
